{
 "cells": [
  {
   "cell_type": "code",
   "execution_count": 19,
   "metadata": {},
   "outputs": [],
   "source": [
    "import pandas as pd"
   ]
  },
  {
   "cell_type": "code",
   "execution_count": 20,
   "metadata": {},
   "outputs": [],
   "source": [
    "file_path = 'reviews_Clothing_Shoes_and_Jewelry_5.csv'\n",
    "df = pd.read_csv(file_path, \n",
    "                 encoding=\"utf-8\"\n",
    "                 )  # Read all columns as strings to avoid parsing errors"
   ]
  },
  {
   "cell_type": "code",
   "execution_count": 5,
   "metadata": {},
   "outputs": [
    {
     "data": {
      "text/plain": [
       "Unnamed: 0          int64\n",
       "reviewerID         object\n",
       "asin               object\n",
       "reviewerName       object\n",
       "helpful            object\n",
       "reviewText         object\n",
       "overall           float64\n",
       "summary            object\n",
       "unixReviewTime      int64\n",
       "reviewTime         object\n",
       "dtype: object"
      ]
     },
     "execution_count": 5,
     "metadata": {},
     "output_type": "execute_result"
    }
   ],
   "source": [
    "df.dtypes"
   ]
  },
  {
   "cell_type": "code",
   "execution_count": 12,
   "metadata": {},
   "outputs": [
    {
     "name": "stdout",
     "output_type": "stream",
     "text": [
      "0              0\n",
      "1              1\n",
      "2              2\n",
      "3              3\n",
      "4              4\n",
      "           ...  \n",
      "278672    278672\n",
      "278673    278673\n",
      "278674    278674\n",
      "278675    278675\n",
      "278676    278676\n",
      "Name: Unnamed: 0, Length: 278677, dtype: object\n"
     ]
    }
   ],
   "source": [
    "print(df['Unnamed: 0'])"
   ]
  },
  {
   "cell_type": "code",
   "execution_count": 13,
   "metadata": {},
   "outputs": [
    {
     "data": {
      "text/plain": [
       "Unnamed: 0        object\n",
       "reviewerID        object\n",
       "asin              object\n",
       "reviewerName      object\n",
       "helpful           object\n",
       "reviewText        object\n",
       "overall           object\n",
       "summary           object\n",
       "unixReviewTime    object\n",
       "reviewTime        object\n",
       "dtype: object"
      ]
     },
     "execution_count": 13,
     "metadata": {},
     "output_type": "execute_result"
    }
   ],
   "source": [
    "df.dtypes"
   ]
  },
  {
   "cell_type": "code",
   "execution_count": 6,
   "metadata": {},
   "outputs": [],
   "source": [
    "df = df.drop(columns=['Unnamed: 0'])"
   ]
  },
  {
   "cell_type": "code",
   "execution_count": 15,
   "metadata": {},
   "outputs": [
    {
     "data": {
      "text/plain": [
       "reviewerID        object\n",
       "asin              object\n",
       "reviewerName      object\n",
       "helpful           object\n",
       "reviewText        object\n",
       "overall           object\n",
       "summary           object\n",
       "unixReviewTime    object\n",
       "reviewTime        object\n",
       "dtype: object"
      ]
     },
     "execution_count": 15,
     "metadata": {},
     "output_type": "execute_result"
    }
   ],
   "source": [
    "df.dtypes"
   ]
  },
  {
   "cell_type": "code",
   "execution_count": 7,
   "metadata": {},
   "outputs": [],
   "source": [
    "df.to_csv('updated_reviews.csv', index=False)"
   ]
  },
  {
   "cell_type": "markdown",
   "metadata": {},
   "source": [
    "#### Metadata preprocessing"
   ]
  },
  {
   "cell_type": "code",
   "execution_count": 21,
   "metadata": {},
   "outputs": [],
   "source": [
    "file_path = 'metadata_category_clothing_shoes_and_jewelry_only.csv'\n",
    "\n",
    "# Read CSV while handling bad lines and escaping quote issues\n",
    "df = pd.read_csv(file_path, \n",
    "                 encoding=\"utf-8\", \n",
    "                 dtype=str)  # Read all columns as strings to avoid parsing errors"
   ]
  },
  {
   "cell_type": "code",
   "execution_count": null,
   "metadata": {},
   "outputs": [
    {
     "name": "stderr",
     "output_type": "stream",
     "text": [
      "C:\\Users\\pratheepkumaar\\AppData\\Local\\Temp\\ipykernel_7524\\2980281207.py:2: FutureWarning: A value is trying to be set on a copy of a DataFrame or Series through chained assignment using an inplace method.\n",
      "The behavior will change in pandas 3.0. This inplace method will never work because the intermediate object on which we are setting values always behaves as a copy.\n",
      "\n",
      "For example, when doing 'df[col].method(value, inplace=True)', try using 'df.method({col: value}, inplace=True)' or df[col] = df[col].method(value) instead, to perform the operation inplace on the original object.\n",
      "\n",
      "\n",
      "  df['description'].fillna(\"No Description\", inplace=True)\n",
      "C:\\Users\\pratheepkumaar\\AppData\\Local\\Temp\\ipykernel_7524\\2980281207.py:3: FutureWarning: A value is trying to be set on a copy of a DataFrame or Series through chained assignment using an inplace method.\n",
      "The behavior will change in pandas 3.0. This inplace method will never work because the intermediate object on which we are setting values always behaves as a copy.\n",
      "\n",
      "For example, when doing 'df[col].method(value, inplace=True)', try using 'df.method({col: value}, inplace=True)' or df[col] = df[col].method(value) instead, to perform the operation inplace on the original object.\n",
      "\n",
      "\n",
      "  df['price'].fillna(\"No Price\", inplace=True)\n",
      "C:\\Users\\pratheepkumaar\\AppData\\Local\\Temp\\ipykernel_7524\\2980281207.py:4: FutureWarning: A value is trying to be set on a copy of a DataFrame or Series through chained assignment using an inplace method.\n",
      "The behavior will change in pandas 3.0. This inplace method will never work because the intermediate object on which we are setting values always behaves as a copy.\n",
      "\n",
      "For example, when doing 'df[col].method(value, inplace=True)', try using 'df.method({col: value}, inplace=True)' or df[col] = df[col].method(value) instead, to perform the operation inplace on the original object.\n",
      "\n",
      "\n",
      "  df['brand'].fillna(\"Unknown\", inplace=True)\n",
      "C:\\Users\\pratheepkumaar\\AppData\\Local\\Temp\\ipykernel_7524\\2980281207.py:5: FutureWarning: A value is trying to be set on a copy of a DataFrame or Series through chained assignment using an inplace method.\n",
      "The behavior will change in pandas 3.0. This inplace method will never work because the intermediate object on which we are setting values always behaves as a copy.\n",
      "\n",
      "For example, when doing 'df[col].method(value, inplace=True)', try using 'df.method({col: value}, inplace=True)' or df[col] = df[col].method(value) instead, to perform the operation inplace on the original object.\n",
      "\n",
      "\n",
      "  df['salesrank'].fillna(\"Unknown\", inplace=True)\n"
     ]
    }
   ],
   "source": [
    "# # Replace missing values\n",
    "# df['description'].fillna(\"No Description\", inplace=True)\n",
    "# df['price'].fillna(\"No Price\", inplace=True)\n",
    "# df['brand'].fillna(\"Unknown\", inplace=True)\n",
    "# df['salesrank'].fillna(\"Unknown\", inplace=True)"
   ]
  },
  {
   "cell_type": "code",
   "execution_count": 22,
   "metadata": {},
   "outputs": [],
   "source": [
    "import ast\n",
    "\n",
    "# Function to extract the first category\n",
    "def extract_first_category(category_list):\n",
    "    if isinstance(category_list, str):  # Ensure it's a string before conversion\n",
    "        try:\n",
    "            category_list = ast.literal_eval(category_list)  # Convert string to list\n",
    "            if isinstance(category_list, list) and len(category_list) > 0:\n",
    "                return category_list[0][0]# Get the first category\n",
    "        except (SyntaxError, ValueError):\n",
    "            return None  # Return None if conversion fails\n",
    "    return None  # Return None for invalid values\n",
    "\n",
    "# Apply function to the categories column\n",
    "df['categories'] = df['categories'].apply(extract_first_category)\n",
    "\n"
   ]
  },
  {
   "cell_type": "code",
   "execution_count": 23,
   "metadata": {},
   "outputs": [],
   "source": [
    "#Rmove white spaces \n",
    "df['title'] = df['title'].str.strip()\n",
    "df['description'] = df['description'].str.strip()"
   ]
  },
  {
   "cell_type": "code",
   "execution_count": 165,
   "metadata": {},
   "outputs": [],
   "source": [
    "# df = df.drop(columns=['title', 'description'])"
   ]
  },
  {
   "cell_type": "code",
   "execution_count": 24,
   "metadata": {},
   "outputs": [],
   "source": [
    "import re\n",
    "\n",
    "# Remove special characters (non-alphanumeric characters) from 'title' and 'description' columns\n",
    "df['title'] = df['title'].apply(lambda x: re.sub(r'[^a-zA-Z0-9\\s]', '', str(x)))\n",
    "df['description'] = df['description'].apply(lambda x: re.sub(r'[^a-zA-Z0-9\\s]', '', str(x)))\n"
   ]
  },
  {
   "cell_type": "code",
   "execution_count": null,
   "metadata": {},
   "outputs": [],
   "source": [
    "# import html\n",
    "\n",
    "# # Decode HTML entities (like &quote;, &amp;, etc.) in 'title' and 'description' columns\n",
    "# data['title'] = data['title'].apply(lambda x: html.unescape(str(x)))\n",
    "# data['description'] = data['description'].apply(lambda x: html.unescape(str(x)))\n"
   ]
  },
  {
   "cell_type": "code",
   "execution_count": 11,
   "metadata": {},
   "outputs": [
    {
     "data": {
      "text/html": [
       "<div>\n",
       "<style scoped>\n",
       "    .dataframe tbody tr th:only-of-type {\n",
       "        vertical-align: middle;\n",
       "    }\n",
       "\n",
       "    .dataframe tbody tr th {\n",
       "        vertical-align: top;\n",
       "    }\n",
       "\n",
       "    .dataframe thead th {\n",
       "        text-align: right;\n",
       "    }\n",
       "</style>\n",
       "<table border=\"1\" class=\"dataframe\">\n",
       "  <thead>\n",
       "    <tr style=\"text-align: right;\">\n",
       "      <th></th>\n",
       "      <th>metadataid</th>\n",
       "      <th>asin</th>\n",
       "      <th>salesrank</th>\n",
       "      <th>imurl</th>\n",
       "      <th>categories</th>\n",
       "      <th>title</th>\n",
       "      <th>description</th>\n",
       "      <th>price</th>\n",
       "      <th>related</th>\n",
       "      <th>brand</th>\n",
       "    </tr>\n",
       "  </thead>\n",
       "  <tbody>\n",
       "    <tr>\n",
       "      <th>444</th>\n",
       "      <td>2874238</td>\n",
       "      <td>B000KJT1HO</td>\n",
       "      <td>{'Health &amp; Personal Care': 13723}</td>\n",
       "      <td>http://ecx.images-amazon.com/images/I/214JrdKw...</td>\n",
       "      <td>[['Clothing, Shoes &amp; Jewelry', 'Novelty, Costu...</td>\n",
       "      <td>31quot Long Handled Shoe Horn  MADE IN THE USA...</td>\n",
       "      <td>The 31 Long Handle Shoe Horn is one of the lon...</td>\n",
       "      <td>21.99</td>\n",
       "      <td>{'also_bought': ['B000POL38Y', 'B000KL7HHS', '...</td>\n",
       "      <td>NaN</td>\n",
       "    </tr>\n",
       "  </tbody>\n",
       "</table>\n",
       "</div>"
      ],
      "text/plain": [
       "    metadataid        asin                          salesrank  \\\n",
       "444    2874238  B000KJT1HO  {'Health & Personal Care': 13723}   \n",
       "\n",
       "                                                 imurl  \\\n",
       "444  http://ecx.images-amazon.com/images/I/214JrdKw...   \n",
       "\n",
       "                                            categories  \\\n",
       "444  [['Clothing, Shoes & Jewelry', 'Novelty, Costu...   \n",
       "\n",
       "                                                 title  \\\n",
       "444  31quot Long Handled Shoe Horn  MADE IN THE USA...   \n",
       "\n",
       "                                           description  price  \\\n",
       "444  The 31 Long Handle Shoe Horn is one of the lon...  21.99   \n",
       "\n",
       "                                               related brand  \n",
       "444  {'also_bought': ['B000POL38Y', 'B000KL7HHS', '...   NaN  "
      ]
     },
     "execution_count": 11,
     "metadata": {},
     "output_type": "execute_result"
    }
   ],
   "source": [
    "df.loc[df['metadataid'] == '2874238']"
   ]
  },
  {
   "cell_type": "code",
   "execution_count": 25,
   "metadata": {},
   "outputs": [
    {
     "data": {
      "text/plain": [
       "<bound method DataFrame.info of       metadataid        asin              salesrank  \\\n",
       "0        2005401  B00004SR8Z     {'Clothing': 1631}   \n",
       "1        2217897  B0000ZE74A     {'Clothing': 4742}   \n",
       "2        2220611  B00012O12A        {'Clothing': 4}   \n",
       "3        2324985  B0002XSXWC      {'Clothing': 300}   \n",
       "4        2348742  B00066TWMU     {'Clothing': 1199}   \n",
       "...          ...         ...                    ...   \n",
       "23028    9014582  B00GMFP3C2     {'Clothing': 8963}   \n",
       "23029    9055939  B00GUXA3E4  {'Clothing': 1237461}   \n",
       "23030    9180895  B00HUZW7PY    {'Clothing': 13102}   \n",
       "23031    9202020  B00I07HQMU       {'Jewelry': 485}   \n",
       "23032    9343212  B00JGU2ZEE    {'Clothing': 13912}   \n",
       "\n",
       "                                                   imurl  \\\n",
       "0      http://ecx.images-amazon.com/images/I/41RfWLMD...   \n",
       "1      http://ecx.images-amazon.com/images/I/41ryA-RO...   \n",
       "2      http://ecx.images-amazon.com/images/I/41Dd7rCH...   \n",
       "3      http://ecx.images-amazon.com/images/I/41-HS7D7...   \n",
       "4      http://ecx.images-amazon.com/images/I/51UNLUB4...   \n",
       "...                                                  ...   \n",
       "23028  http://ecx.images-amazon.com/images/I/4146-7BI...   \n",
       "23029  http://ecx.images-amazon.com/images/I/41LCQrVf...   \n",
       "23030  http://ecx.images-amazon.com/images/I/51kFbUjn...   \n",
       "23031  http://ecx.images-amazon.com/images/I/41OPXxBC...   \n",
       "23032  http://ecx.images-amazon.com/images/I/51gOJ0tW...   \n",
       "\n",
       "                      categories  \\\n",
       "0      Clothing, Shoes & Jewelry   \n",
       "1      Clothing, Shoes & Jewelry   \n",
       "2      Clothing, Shoes & Jewelry   \n",
       "3              Sports & Outdoors   \n",
       "4      Clothing, Shoes & Jewelry   \n",
       "...                          ...   \n",
       "23028  Clothing, Shoes & Jewelry   \n",
       "23029  Clothing, Shoes & Jewelry   \n",
       "23030  Clothing, Shoes & Jewelry   \n",
       "23031  Clothing, Shoes & Jewelry   \n",
       "23032  Clothing, Shoes & Jewelry   \n",
       "\n",
       "                                                   title description  price  \\\n",
       "0                        Lewis N Clark Deluxe Neck Stash         nan   12.8   \n",
       "1      Vanity Fair Womens Lollipop Plus Size Cuff Leg...         nan    NaN   \n",
       "2                         Levis Mens 505 RegularFit Jean         nan    NaN   \n",
       "3      Columbia Mens Bonehead Short Sleeve Fishing Shirt         nan    NaN   \n",
       "4                                    ASICS Mesh Backpack         nan  12.41   \n",
       "...                                                  ...         ...    ...   \n",
       "23028  Vintage Retro Bikini Polka High Waist Short Bo...         nan    NaN   \n",
       "23029  ShoSho Womens Plus Size Print amp Pattern Legg...         nan   9.15   \n",
       "23030  WomenS Poly Span Various Print High amp Low Tu...         nan  19.95   \n",
       "23031  Keepsake Window Jewelry Box Organizer Storage ...         nan  17.91   \n",
       "23032  Lindy Bop Ophelia Vintage 1950s Floral Spring ...         nan  61.99   \n",
       "\n",
       "                                                 related                brand  \n",
       "0      {'also_bought': ['B004RJWFDU', 'B00920ZC3O', '...       Lewis N. Clark  \n",
       "1      {'also_bought': ['B004PEHJ6U', 'B0000TF5VK', '...                  NaN  \n",
       "2      {'also_bought': ['B0018OR118', 'B003M2X1VI', '...                  NaN  \n",
       "3      {'also_bought': ['B0031RFWMU', 'B0050VLSLO', '...                  NaN  \n",
       "4      {'also_bought': ['B009DB3RS4', 'B001PFA35G', '...                ASICS  \n",
       "...                                                  ...                  ...  \n",
       "23028  {'also_bought': ['B00J28IYTA', 'B00L22SJ4E', '...                  NaN  \n",
       "23029  {'also_bought': ['B00J3C20DG', 'B00HY2T5TO', '...               VANIUX  \n",
       "23030  {'also_bought': ['B00IZMUT60', 'B00H4HU7A0', '...                  NaN  \n",
       "23031  {'also_bought': ['B001KKYN2U', 'B00570DVLS', '...  Furniture Creations  \n",
       "23032  {'also_bought': ['B00IGUJN3Q', 'B00I8NZWYK', '...                  NaN  \n",
       "\n",
       "[23033 rows x 10 columns]>"
      ]
     },
     "execution_count": 25,
     "metadata": {},
     "output_type": "execute_result"
    }
   ],
   "source": [
    "df.info"
   ]
  },
  {
   "cell_type": "code",
   "execution_count": 26,
   "metadata": {},
   "outputs": [],
   "source": [
    "df.to_csv('updated_metadata.csv', index=False)"
   ]
  },
  {
   "cell_type": "code",
   "execution_count": 27,
   "metadata": {},
   "outputs": [
    {
     "name": "stdout",
     "output_type": "stream",
     "text": [
      "Cleaned CSV file saved at: updated_metadata_cleaned_final.csv\n"
     ]
    }
   ],
   "source": [
    "import csv\n",
    "\n",
    "# Define the input and output file paths\n",
    "input_file_path = \"updated_metadata.csv\"\n",
    "cleaned_file_path = \"updated_metadata_cleaned_final.csv\"\n",
    "\n",
    "# Function to clean JSON-like fields\n",
    "def clean_json_field(field):\n",
    "    \"\"\"\n",
    "    Ensures JSON-like fields are properly formatted with double quotes and no unescaped commas.\n",
    "    \"\"\"\n",
    "    if isinstance(field, str):\n",
    "        field = field.replace(\"'\", '\"')  # Convert single quotes to double quotes\n",
    "        field = field.replace(\", \", \"; \")  # Temporarily replace commas inside JSON to prevent column splitting issues\n",
    "    return field\n",
    "\n",
    "# Process the file and clean it\n",
    "with open(input_file_path, \"r\", encoding=\"utf-8\") as infile, open(cleaned_file_path, \"w\", encoding=\"utf-8\", newline='') as outfile:\n",
    "    reader = csv.reader(infile, delimiter=\",\", quotechar='\"')\n",
    "    writer = csv.writer(outfile, delimiter=\",\", quotechar='\"', quoting=csv.QUOTE_MINIMAL)\n",
    "    \n",
    "    for row in reader:\n",
    "        if len(row) == 10:  # Ensure we only modify valid rows\n",
    "            row[2] = clean_json_field(row[2])  # Clean salesrank column\n",
    "            row[8] = clean_json_field(row[8])  # Clean related column\n",
    "        writer.writerow(row)\n",
    "\n",
    "print(f\"Cleaned CSV file saved at: {cleaned_file_path}\")\n"
   ]
  },
  {
   "cell_type": "code",
   "execution_count": 28,
   "metadata": {},
   "outputs": [],
   "source": [
    "# Read CSV while handling bad lines and escaping quote issues\n",
    "df = pd.read_csv(\"updated_metadata_cleaned_final.csv\")  # Read all columns as strings to avoid parsing errors"
   ]
  },
  {
   "cell_type": "code",
   "execution_count": 29,
   "metadata": {},
   "outputs": [
    {
     "data": {
      "text/plain": [
       "<bound method DataFrame.info of        metadataid        asin              salesrank  \\\n",
       "0         2005401  B00004SR8Z     {\"Clothing\": 1631}   \n",
       "1         2217897  B0000ZE74A     {\"Clothing\": 4742}   \n",
       "2         2220611  B00012O12A        {\"Clothing\": 4}   \n",
       "3         2324985  B0002XSXWC      {\"Clothing\": 300}   \n",
       "4         2348742  B00066TWMU     {\"Clothing\": 1199}   \n",
       "...           ...         ...                    ...   \n",
       "23028     9014582  B00GMFP3C2     {\"Clothing\": 8963}   \n",
       "23029     9055939  B00GUXA3E4  {\"Clothing\": 1237461}   \n",
       "23030     9180895  B00HUZW7PY    {\"Clothing\": 13102}   \n",
       "23031     9202020  B00I07HQMU       {\"Jewelry\": 485}   \n",
       "23032     9343212  B00JGU2ZEE    {\"Clothing\": 13912}   \n",
       "\n",
       "                                                   imurl  \\\n",
       "0      http://ecx.images-amazon.com/images/I/41RfWLMD...   \n",
       "1      http://ecx.images-amazon.com/images/I/41ryA-RO...   \n",
       "2      http://ecx.images-amazon.com/images/I/41Dd7rCH...   \n",
       "3      http://ecx.images-amazon.com/images/I/41-HS7D7...   \n",
       "4      http://ecx.images-amazon.com/images/I/51UNLUB4...   \n",
       "...                                                  ...   \n",
       "23028  http://ecx.images-amazon.com/images/I/4146-7BI...   \n",
       "23029  http://ecx.images-amazon.com/images/I/41LCQrVf...   \n",
       "23030  http://ecx.images-amazon.com/images/I/51kFbUjn...   \n",
       "23031  http://ecx.images-amazon.com/images/I/41OPXxBC...   \n",
       "23032  http://ecx.images-amazon.com/images/I/51gOJ0tW...   \n",
       "\n",
       "                      categories  \\\n",
       "0      Clothing, Shoes & Jewelry   \n",
       "1      Clothing, Shoes & Jewelry   \n",
       "2      Clothing, Shoes & Jewelry   \n",
       "3              Sports & Outdoors   \n",
       "4      Clothing, Shoes & Jewelry   \n",
       "...                          ...   \n",
       "23028  Clothing, Shoes & Jewelry   \n",
       "23029  Clothing, Shoes & Jewelry   \n",
       "23030  Clothing, Shoes & Jewelry   \n",
       "23031  Clothing, Shoes & Jewelry   \n",
       "23032  Clothing, Shoes & Jewelry   \n",
       "\n",
       "                                                   title description  price  \\\n",
       "0                        Lewis N Clark Deluxe Neck Stash         NaN  12.80   \n",
       "1      Vanity Fair Womens Lollipop Plus Size Cuff Leg...         NaN    NaN   \n",
       "2                         Levis Mens 505 RegularFit Jean         NaN    NaN   \n",
       "3      Columbia Mens Bonehead Short Sleeve Fishing Shirt         NaN    NaN   \n",
       "4                                    ASICS Mesh Backpack         NaN  12.41   \n",
       "...                                                  ...         ...    ...   \n",
       "23028  Vintage Retro Bikini Polka High Waist Short Bo...         NaN    NaN   \n",
       "23029  ShoSho Womens Plus Size Print amp Pattern Legg...         NaN   9.15   \n",
       "23030  WomenS Poly Span Various Print High amp Low Tu...         NaN  19.95   \n",
       "23031  Keepsake Window Jewelry Box Organizer Storage ...         NaN  17.91   \n",
       "23032  Lindy Bop Ophelia Vintage 1950s Floral Spring ...         NaN  61.99   \n",
       "\n",
       "                                                 related                brand  \n",
       "0      {\"also_bought\": [\"B004RJWFDU\"; \"B00920ZC3O\"; \"...       Lewis N. Clark  \n",
       "1      {\"also_bought\": [\"B004PEHJ6U\"; \"B0000TF5VK\"; \"...                  NaN  \n",
       "2      {\"also_bought\": [\"B0018OR118\"; \"B003M2X1VI\"; \"...                  NaN  \n",
       "3      {\"also_bought\": [\"B0031RFWMU\"; \"B0050VLSLO\"; \"...                  NaN  \n",
       "4      {\"also_bought\": [\"B009DB3RS4\"; \"B001PFA35G\"; \"...                ASICS  \n",
       "...                                                  ...                  ...  \n",
       "23028  {\"also_bought\": [\"B00J28IYTA\"; \"B00L22SJ4E\"; \"...                  NaN  \n",
       "23029  {\"also_bought\": [\"B00J3C20DG\"; \"B00HY2T5TO\"; \"...               VANIUX  \n",
       "23030  {\"also_bought\": [\"B00IZMUT60\"; \"B00H4HU7A0\"; \"...                  NaN  \n",
       "23031  {\"also_bought\": [\"B001KKYN2U\"; \"B00570DVLS\"; \"...  Furniture Creations  \n",
       "23032  {\"also_bought\": [\"B00IGUJN3Q\"; \"B00I8NZWYK\"; \"...                  NaN  \n",
       "\n",
       "[23033 rows x 10 columns]>"
      ]
     },
     "execution_count": 29,
     "metadata": {},
     "output_type": "execute_result"
    }
   ],
   "source": [
    "df.info"
   ]
  },
  {
   "cell_type": "code",
   "execution_count": 30,
   "metadata": {},
   "outputs": [
    {
     "data": {
      "text/plain": [
       "0        Clothing, Shoes & Jewelry\n",
       "1        Clothing, Shoes & Jewelry\n",
       "2        Clothing, Shoes & Jewelry\n",
       "3                Sports & Outdoors\n",
       "4        Clothing, Shoes & Jewelry\n",
       "                   ...            \n",
       "23028    Clothing, Shoes & Jewelry\n",
       "23029    Clothing, Shoes & Jewelry\n",
       "23030    Clothing, Shoes & Jewelry\n",
       "23031    Clothing, Shoes & Jewelry\n",
       "23032    Clothing, Shoes & Jewelry\n",
       "Name: categories, Length: 23033, dtype: object"
      ]
     },
     "execution_count": 30,
     "metadata": {},
     "output_type": "execute_result"
    }
   ],
   "source": [
    "df['categories']"
   ]
  },
  {
   "cell_type": "code",
   "execution_count": null,
   "metadata": {},
   "outputs": [],
   "source": []
  }
 ],
 "metadata": {
  "kernelspec": {
   "display_name": "localdev",
   "language": "python",
   "name": "python3"
  },
  "language_info": {
   "codemirror_mode": {
    "name": "ipython",
    "version": 3
   },
   "file_extension": ".py",
   "mimetype": "text/x-python",
   "name": "python",
   "nbconvert_exporter": "python",
   "pygments_lexer": "ipython3",
   "version": "3.10.11"
  }
 },
 "nbformat": 4,
 "nbformat_minor": 2
}
