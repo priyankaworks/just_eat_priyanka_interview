{
 "cells": [
  {
   "cell_type": "code",
   "execution_count": null,
   "metadata": {
    "vscode": {
     "languageId": "plaintext"
    }
   },
   "outputs": [],
   "source": [
    "import pandas as pd\n",
    "import matplotlib.pyplot as plt\n",
    "\n",
    "# Load the CSV files\n",
    "file_path_brand = \"avg_review_per_brand_mnt.csv\"\n",
    "file_path_category = \"avg_review_per_cat_mnt.csv\"\n",
    "\n",
    "df_brand = pd.read_csv(file_path_brand)\n",
    "df_category = pd.read_csv(file_path_category)\n",
    "\n",
    "# Convert 'year_month' to datetime format\n",
    "df_brand[\"year_month\"] = pd.to_datetime(df_brand[\"year_month\"])\n",
    "df_category[\"year_month\"] = pd.to_datetime(df_category[\"year_month\"])\n",
    "\n",
    "# Filter out unmapped or generic brand names\n",
    "filtered_brands = df_brand[~df_brand[\"brand\"].str.lower().str.contains(\"not mapped|unknown|generic\", na=False)]\n",
    "top_2_brands = filtered_brands[\"brand\"].value_counts().head(2).index\n",
    "\n",
    "# Plot average review ratings over time for top 2 filtered brands\n",
    "plt.figure(figsize=(12, 6))\n",
    "for brand in top_2_brands:\n",
    "    subset = filtered_brands[filtered_brands[\"brand\"] == brand]\n",
    "    plt.plot(subset[\"year_month\"], subset[\"avg_review_rating\"], marker='o', linestyle='-', label=brand)\n",
    "\n",
    "plt.title(\"Average Review Rating Over Time (Top 2 Filtered Brands)\")\n",
    "plt.xlabel(\"Year-Month\")\n",
    "plt.ylabel(\"Average Review Rating\")\n",
    "plt.xticks(rotation=45)\n",
    "plt.legend()\n",
    "plt.grid(True)\n",
    "plt.show()\n",
    "\n",
    "# Plot average review ratings over time for top 2 categories\n",
    "top_2_categories = df_category[\"category\"].value_counts().head(2).index\n",
    "plt.figure(figsize=(12, 6))\n",
    "for category in top_2_categories:\n",
    "    subset = df_category[df_category[\"category\"] == category]\n",
    "    plt.plot(subset[\"year_month\"], subset[\"avg_review_rating\"], marker='s', linestyle='-', label=category)\n",
    "\n",
    "plt.title(\"Average Review Rating Over Time (Top 2 Categories)\")\n",
    "plt.xlabel(\"Year-Month\")\n",
    "plt.ylabel(\"Average Review Rating\")\n",
    "plt.xticks(rotation=45)\n",
    "plt.legend()\n",
    "plt.grid(True)\n",
    "plt.show()\n"
   ]
  }
 ],
 "metadata": {
  "language_info": {
   "name": "python"
  }
 },
 "nbformat": 4,
 "nbformat_minor": 2
}
